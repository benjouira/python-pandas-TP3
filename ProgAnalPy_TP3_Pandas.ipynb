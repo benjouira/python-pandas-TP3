{
  "nbformat": 4,
  "nbformat_minor": 0,
  "metadata": {
    "kernelspec": {
      "display_name": "Python 3",
      "language": "python",
      "name": "python3"
    },
    "language_info": {
      "codemirror_mode": {
        "name": "ipython",
        "version": 3
      },
      "file_extension": ".py",
      "mimetype": "text/x-python",
      "name": "python",
      "nbconvert_exporter": "python",
      "pygments_lexer": "ipython3",
      "version": "3.7.3"
    },
    "colab": {
      "name": "ProgAnalPy_TP3_Pandas.ipynb",
      "provenance": [],
      "collapsed_sections": []
    }
  },
  "cells": [
    {
      "cell_type": "markdown",
      "metadata": {
        "id": "rcPkVR00VHWQ"
      },
      "source": [
        "L’objectif de ce TP est d’étudier les notes de DS, TP et EXAMEN de 10 étudiants du département informatique concernant la matière \"Programmation et Analyse avec Python\". Les notes sont stockées dans un fichier Excel, nommé \"notes.xlsx\", dont la première colonne représente le CIN d’un étudiant, la deuxième représente la note de DS, la troisième représente la note de TP, et la dernière représente la note d'examen. Le nom d’étudiant associé à chaque CIN est stocké dans le fichier CSV \"noms.csv\". Tous les valeurs sont séparées des points virgules \";\""
      ]
    },
    {
      "cell_type": "code",
      "metadata": {
        "id": "lzf0qvBJVHWO"
      },
      "source": [
        "import pandas as pd\n",
        "import matplotlib.pyplot as plt"
      ],
      "execution_count": 1,
      "outputs": []
    },
    {
      "cell_type": "markdown",
      "metadata": {
        "id": "Pqljq7DAVHWR"
      },
      "source": [
        "### I-###\n",
        "**1.** Importer le jeu de données \"notes.xlsx\" dans un dataframe, nommé $df\\_notes$. Afficher ensuite les cinq premières lignes de $df\\_notes$."
      ]
    },
    {
      "cell_type": "code",
      "metadata": {
        "id": "9jeOLDHtdj4h"
      },
      "source": [
        ""
      ],
      "execution_count": 1,
      "outputs": []
    },
    {
      "cell_type": "code",
      "metadata": {
        "id": "vvS1DDtYVHWR"
      },
      "source": [
        ""
      ],
      "execution_count": 1,
      "outputs": []
    },
    {
      "cell_type": "markdown",
      "metadata": {
        "id": "_5pZ2L31VHWS"
      },
      "source": [
        "**2.** Afficher le maximum des notes d'examen, réinitialiser l'index de $df\\_notes$, et afficher les numéros de CIN des étudiants ayant le note maximum d'examen sous forme d'un dataFrame, nommé $df\\_max$"
      ]
    },
    {
      "cell_type": "code",
      "metadata": {
        "id": "obvnIzazVHWS"
      },
      "source": [
        ""
      ],
      "execution_count": 1,
      "outputs": []
    },
    {
      "cell_type": "markdown",
      "metadata": {
        "id": "SqtEfQR8VHWU"
      },
      "source": [
        "**3.** Ajouter 5 points à chaque étudiant qui a une note inférieure à 10 en DS. Afficher $df\\_notes$"
      ]
    },
    {
      "cell_type": "code",
      "metadata": {
        "id": "e9ujHwKjVHWU"
      },
      "source": [
        ""
      ],
      "execution_count": 1,
      "outputs": []
    },
    {
      "cell_type": "markdown",
      "metadata": {
        "id": "YhgKQykhVHWV"
      },
      "source": [
        "**4.** Ajouter une colonne nommée \"MOYENNE\" qui contient la moyenne de chaque étudiant dans la matière \"Programmation et Analyse avec Python\". Le calcul de la moyenne se fait selon les coefficients suivants:<br><ul><li>Coefficient EXAMEN= 0.5</li>\n",
        "<li>Coefficient TP= 0.2</li>\n",
        "<li>Coefficient DS= 0.3</li></ul>"
      ]
    },
    {
      "cell_type": "code",
      "metadata": {
        "id": "Ukaheo2WVHWW"
      },
      "source": [
        ""
      ],
      "execution_count": 1,
      "outputs": []
    },
    {
      "cell_type": "markdown",
      "metadata": {
        "id": "QmDsdOrhVHWW"
      },
      "source": [
        "**5.** Calculer et afficher la moyenne générale de toute la classe dans la matière \"Programmation et Analyse avec Python\""
      ]
    },
    {
      "cell_type": "code",
      "metadata": {
        "id": "Vwd8sCfxVHWW"
      },
      "source": [
        ""
      ],
      "execution_count": 1,
      "outputs": []
    },
    {
      "cell_type": "markdown",
      "metadata": {
        "id": "QLarsBixVHWX"
      },
      "source": [
        "**6.** Supprimer de $df\\_notes$ les étudiants n'ayant pas la moyenne dans la matière \"Programmation et Analyse avec Python\". Afficher $df\\_notes$"
      ]
    },
    {
      "cell_type": "code",
      "metadata": {
        "id": "y3BbyoGMVHWX"
      },
      "source": [
        ""
      ],
      "execution_count": 1,
      "outputs": []
    },
    {
      "cell_type": "markdown",
      "metadata": {
        "id": "pcm9CzYBVHWY"
      },
      "source": [
        "### II-###\n",
        "**1.** Importer le jeu de données \"noms.csv\" dans un dataframe, nommé $df\\_noms$, puis afficher ses 8 premières lignes"
      ]
    },
    {
      "cell_type": "code",
      "metadata": {
        "id": "v4FZrst9VHWY"
      },
      "source": [
        ""
      ],
      "execution_count": 1,
      "outputs": []
    },
    {
      "cell_type": "markdown",
      "metadata": {
        "id": "E_li22LYVHWY"
      },
      "source": [
        "**2.** Trier les lignes de $df\\_noms$ selon l'ordre alphabétique croissant de la colonne \"NOM\". Afficher $df\\_noms$"
      ]
    },
    {
      "cell_type": "code",
      "metadata": {
        "id": "nqyLLaxIVHWY"
      },
      "source": [
        ""
      ],
      "execution_count": 1,
      "outputs": []
    },
    {
      "cell_type": "markdown",
      "metadata": {
        "id": "oUov3JOWVHWZ"
      },
      "source": [
        "**3.** Ajouter une colonne NOM à la deuxième position de $df\\_notes$. Cette colonne correspond au noms des étudiants associés à chaque CIN à partir de $df\\_noms$. Afficher $df\\_notes$"
      ]
    },
    {
      "cell_type": "code",
      "metadata": {
        "id": "pkRFMot5VHWZ"
      },
      "source": [
        ""
      ],
      "execution_count": 1,
      "outputs": []
    },
    {
      "cell_type": "markdown",
      "metadata": {
        "id": "UQ04JzwUVHWa"
      },
      "source": [
        "**4.** Découper la colonne MOYENNE de $df\\_notes$ en 3 valeurs : T.Bien (MOYENNE>16), Bien(14<MOYENNE<=16), et Passable (MOYENNE<14). Puis, changer le nom de la colonne MOYENNE par MENTION. Afficher $df\\_notes$"
      ]
    },
    {
      "cell_type": "code",
      "metadata": {
        "id": "ZWWnpAUwVHWa"
      },
      "source": [
        ""
      ],
      "execution_count": 1,
      "outputs": []
    },
    {
      "cell_type": "markdown",
      "metadata": {
        "id": "dfUhfF3dVHWa"
      },
      "source": [
        "**5.** Déterminer l’histogramme de la répartition des mentions de $df\\_notes$. Cet histogramme comporte 3 bins chacun de largeur=0.5 (rwidth = 0.5), de couleur rouge (color = 'red') et de contour blue (edgecolor = 'blue')"
      ]
    },
    {
      "cell_type": "code",
      "metadata": {
        "id": "Vond5X4MVHWb"
      },
      "source": [
        ""
      ],
      "execution_count": 1,
      "outputs": []
    },
    {
      "cell_type": "markdown",
      "metadata": {
        "id": "qsAAeoZrVHWb"
      },
      "source": [
        "**6.**\n",
        "Déterminer, à partir de  $df\\_notes$, le diagramme en secteur correspondant à l’attribut MENTION"
      ]
    },
    {
      "cell_type": "code",
      "metadata": {
        "id": "MG1NTNU2VHWb"
      },
      "source": [
        ""
      ],
      "execution_count": 1,
      "outputs": []
    }
  ]
}